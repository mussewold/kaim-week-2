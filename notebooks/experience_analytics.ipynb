{
 "cells": [
  {
   "cell_type": "markdown",
   "metadata": {},
   "source": [
    "# Task 3 - Experience Analytics\n",
    "\n",
    "This notebook analyzes user experience in the telecom dataset focusing on network parameters and device characteristics."
   ]
  },
  {
   "cell_type": "code",
   "execution_count": 1,
   "metadata": {},
   "outputs": [],
   "source": [
    "import sys\n",
    "sys.path.append('..')\n",
    "\n",
    "import pandas as pd\n",
    "import numpy as np\n",
    "import matplotlib.pyplot as plt\n",
    "import seaborn as sns\n",
    "\n",
    "from scripts.data_processing_utils import *\n",
    "from scripts.experience_utils import *"
   ]
  },
  {
   "cell_type": "markdown",
   "metadata": {},
   "source": [
    "## Task 3.1 - Customer Experience Metrics"
   ]
  },
  {
   "cell_type": "code",
   "execution_count": 2,
   "metadata": {},
   "outputs": [
    {
     "name": "stdout",
     "output_type": "stream",
     "text": [
      "Experience Metrics Overview:\n",
      "Number of customers: 106857\n",
      "\n",
      "Sample of experience metrics:\n",
      "              tcp_dl_retrans  tcp_ul_retrans      rtt_dl     rtt_ul  \\\n",
      "user_id                                                               \n",
      "3.360100e+10    2.080991e+07   759658.664811   46.000000   0.000000   \n",
      "3.360100e+10    2.080991e+07   759658.664811   30.000000   1.000000   \n",
      "3.360100e+10    2.080991e+07   759658.664811  109.795706  17.662883   \n",
      "3.360101e+10    1.066000e+03   759658.664811   69.000000  15.000000   \n",
      "3.360101e+10    1.507977e+07   390430.332406   57.000000   2.500000   \n",
      "\n",
      "              throughput_dl  throughput_ul                         handset  \\\n",
      "user_id                                                                      \n",
      "3.360100e+10           37.0           39.0  Huawei P20 Lite Huawei Nova 3E   \n",
      "3.360100e+10           48.0           51.0          Apple iPhone 7 (A1778)   \n",
      "3.360100e+10           48.0           49.0                       undefined   \n",
      "3.360101e+10          204.0           44.0         Apple iPhone 5S (A1457)   \n",
      "3.360101e+10        20197.5         8224.5         Apple iPhone Se (A1723)   \n",
      "\n",
      "              tcp_retransmission    avg_rtt  avg_throughput  \n",
      "user_id                                                      \n",
      "3.360100e+10        2.156957e+07  23.000000            38.0  \n",
      "3.360100e+10        2.156957e+07  15.500000            49.5  \n",
      "3.360100e+10        2.156957e+07  63.729294            48.5  \n",
      "3.360101e+10        7.607247e+05  42.000000           124.0  \n",
      "3.360101e+10        1.547020e+07  29.750000         14211.0  \n",
      "\n",
      "Summary Statistics:\n",
      "       tcp_dl_retrans  tcp_ul_retrans         rtt_dl         rtt_ul  \\\n",
      "count    1.068570e+05    1.068570e+05  106857.000000  106857.000000   \n",
      "mean     2.011162e+07    7.358832e+05     117.966734      16.793390   \n",
      "std      9.774344e+07    1.244874e+07     578.932399      73.513719   \n",
      "min      2.000000e+00    1.000000e+00       0.000000       0.000000   \n",
      "25%      4.978710e+06    2.858878e+05      35.000000       3.000000   \n",
      "50%      2.080991e+07    7.596587e+05      56.000000       7.000000   \n",
      "75%      2.080991e+07    7.596587e+05     109.795706      17.662883   \n",
      "max      4.289488e+09    2.455600e+09   96923.000000    7120.000000   \n",
      "\n",
      "       throughput_dl  throughput_ul  tcp_retransmission        avg_rtt  \\\n",
      "count  106857.000000  106857.000000        1.068570e+05  106857.000000   \n",
      "mean    11634.031985    1518.880680        2.084751e+07      67.380062   \n",
      "std     20605.639709    3912.090642        9.872884e+07     292.082159   \n",
      "min         0.000000       0.000000        9.700000e+01       0.000000   \n",
      "25%        43.000000      48.000000        5.327827e+06      20.250000   \n",
      "50%       110.000000      75.500000        2.156957e+07      34.500000   \n",
      "75%     16816.000000    1006.000000        2.156957e+07      63.729294   \n",
      "max    264448.000000   58613.000000        4.301477e+09   48462.000000   \n",
      "\n",
      "       avg_throughput  \n",
      "count   106857.000000  \n",
      "mean      6576.456333  \n",
      "std      11532.180160  \n",
      "min          0.000000  \n",
      "25%         46.000000  \n",
      "50%        105.500000  \n",
      "75%       9463.000000  \n",
      "max     141965.500000  \n"
     ]
    }
   ],
   "source": [
    "# Load and preprocess data\n",
    "df = load_and_preprocess_data()\n",
    "\n",
    "# Aggregate customer experience metrics\n",
    "experience_metrics = aggregate_experience_metrics(df)\n",
    "\n",
    "print(\"Experience Metrics Overview:\")\n",
    "print(f\"Number of customers: {len(experience_metrics)}\")\n",
    "print(\"\\nSample of experience metrics:\")\n",
    "print(experience_metrics.head())\n",
    "\n",
    "# Display summary statistics\n",
    "print(\"\\nSummary Statistics:\")\n",
    "print(experience_metrics.describe())"
   ]
  },
  {
   "cell_type": "markdown",
   "metadata": {},
   "source": [
    "## Task 3.2 - Network Parameter Analysis"
   ]
  },
  {
   "cell_type": "code",
   "execution_count": 3,
   "metadata": {},
   "outputs": [
    {
     "ename": "KeyError",
     "evalue": "'tcp_retransmission'",
     "output_type": "error",
     "traceback": [
      "\u001b[0;31m---------------------------------------------------------------------------\u001b[0m",
      "\u001b[0;31mKeyError\u001b[0m                                  Traceback (most recent call last)",
      "File \u001b[0;32m~/Documents/Tenx/kaim-week-2/venv/lib/python3.12/site-packages/pandas/core/indexes/base.py:3805\u001b[0m, in \u001b[0;36mIndex.get_loc\u001b[0;34m(self, key)\u001b[0m\n\u001b[1;32m   3804\u001b[0m \u001b[38;5;28;01mtry\u001b[39;00m:\n\u001b[0;32m-> 3805\u001b[0m     \u001b[38;5;28;01mreturn\u001b[39;00m \u001b[38;5;28;43mself\u001b[39;49m\u001b[38;5;241;43m.\u001b[39;49m\u001b[43m_engine\u001b[49m\u001b[38;5;241;43m.\u001b[39;49m\u001b[43mget_loc\u001b[49m\u001b[43m(\u001b[49m\u001b[43mcasted_key\u001b[49m\u001b[43m)\u001b[49m\n\u001b[1;32m   3806\u001b[0m \u001b[38;5;28;01mexcept\u001b[39;00m \u001b[38;5;167;01mKeyError\u001b[39;00m \u001b[38;5;28;01mas\u001b[39;00m err:\n",
      "File \u001b[0;32mindex.pyx:167\u001b[0m, in \u001b[0;36mpandas._libs.index.IndexEngine.get_loc\u001b[0;34m()\u001b[0m\n",
      "File \u001b[0;32mindex.pyx:196\u001b[0m, in \u001b[0;36mpandas._libs.index.IndexEngine.get_loc\u001b[0;34m()\u001b[0m\n",
      "File \u001b[0;32mpandas/_libs/hashtable_class_helper.pxi:7081\u001b[0m, in \u001b[0;36mpandas._libs.hashtable.PyObjectHashTable.get_item\u001b[0;34m()\u001b[0m\n",
      "File \u001b[0;32mpandas/_libs/hashtable_class_helper.pxi:7089\u001b[0m, in \u001b[0;36mpandas._libs.hashtable.PyObjectHashTable.get_item\u001b[0;34m()\u001b[0m\n",
      "\u001b[0;31mKeyError\u001b[0m: 'tcp_retransmission'",
      "\nThe above exception was the direct cause of the following exception:\n",
      "\u001b[0;31mKeyError\u001b[0m                                  Traceback (most recent call last)",
      "Cell \u001b[0;32mIn[3], line 2\u001b[0m\n\u001b[1;32m      1\u001b[0m \u001b[38;5;66;03m# Analyze TCP retransmission values\u001b[39;00m\n\u001b[0;32m----> 2\u001b[0m tcp_analysis \u001b[38;5;241m=\u001b[39m \u001b[43manalyze_network_parameter\u001b[49m\u001b[43m(\u001b[49m\u001b[43mdf\u001b[49m\u001b[43m,\u001b[49m\u001b[43m \u001b[49m\u001b[38;5;124;43m'\u001b[39;49m\u001b[38;5;124;43mtcp_retransmission\u001b[39;49m\u001b[38;5;124;43m'\u001b[39;49m\u001b[43m)\u001b[49m\n\u001b[1;32m      3\u001b[0m \u001b[38;5;28mprint\u001b[39m(\u001b[38;5;124m\"\u001b[39m\u001b[38;5;124mTCP Retransmission Analysis:\u001b[39m\u001b[38;5;124m\"\u001b[39m)\n\u001b[1;32m      4\u001b[0m \u001b[38;5;28mprint\u001b[39m(\u001b[38;5;124m\"\u001b[39m\u001b[38;5;124mTop 10 values:\u001b[39m\u001b[38;5;124m\"\u001b[39m, tcp_analysis[\u001b[38;5;124m'\u001b[39m\u001b[38;5;124mtop\u001b[39m\u001b[38;5;124m'\u001b[39m])\n",
      "File \u001b[0;32m~/Documents/Tenx/kaim-week-2/notebooks/../scripts/experience_utils.py:47\u001b[0m, in \u001b[0;36manalyze_network_parameter\u001b[0;34m(df, parameter)\u001b[0m\n\u001b[1;32m     42\u001b[0m \u001b[38;5;28;01mdef\u001b[39;00m \u001b[38;5;21manalyze_network_parameter\u001b[39m(df, parameter):\n\u001b[1;32m     43\u001b[0m \u001b[38;5;250m    \u001b[39m\u001b[38;5;124;03m\"\"\"\u001b[39;00m\n\u001b[1;32m     44\u001b[0m \u001b[38;5;124;03m    Analyze network parameter (top, bottom, most frequent values)\u001b[39;00m\n\u001b[1;32m     45\u001b[0m \u001b[38;5;124;03m    \"\"\"\u001b[39;00m\n\u001b[1;32m     46\u001b[0m     \u001b[38;5;28;01mreturn\u001b[39;00m {\n\u001b[0;32m---> 47\u001b[0m         \u001b[38;5;124m'\u001b[39m\u001b[38;5;124mtop\u001b[39m\u001b[38;5;124m'\u001b[39m: \u001b[43mdf\u001b[49m\u001b[43m[\u001b[49m\u001b[43mparameter\u001b[49m\u001b[43m]\u001b[49m\u001b[38;5;241m.\u001b[39mnlargest(\u001b[38;5;241m10\u001b[39m)\u001b[38;5;241m.\u001b[39mtolist(),\n\u001b[1;32m     48\u001b[0m         \u001b[38;5;124m'\u001b[39m\u001b[38;5;124mbottom\u001b[39m\u001b[38;5;124m'\u001b[39m: df[parameter]\u001b[38;5;241m.\u001b[39mnsmallest(\u001b[38;5;241m10\u001b[39m)\u001b[38;5;241m.\u001b[39mtolist(),\n\u001b[1;32m     49\u001b[0m         \u001b[38;5;124m'\u001b[39m\u001b[38;5;124mfrequent\u001b[39m\u001b[38;5;124m'\u001b[39m: df[parameter]\u001b[38;5;241m.\u001b[39mvalue_counts()\u001b[38;5;241m.\u001b[39mhead(\u001b[38;5;241m10\u001b[39m)\u001b[38;5;241m.\u001b[39mindex\u001b[38;5;241m.\u001b[39mtolist()\n\u001b[1;32m     50\u001b[0m     }\n",
      "File \u001b[0;32m~/Documents/Tenx/kaim-week-2/venv/lib/python3.12/site-packages/pandas/core/frame.py:4102\u001b[0m, in \u001b[0;36mDataFrame.__getitem__\u001b[0;34m(self, key)\u001b[0m\n\u001b[1;32m   4100\u001b[0m \u001b[38;5;28;01mif\u001b[39;00m \u001b[38;5;28mself\u001b[39m\u001b[38;5;241m.\u001b[39mcolumns\u001b[38;5;241m.\u001b[39mnlevels \u001b[38;5;241m>\u001b[39m \u001b[38;5;241m1\u001b[39m:\n\u001b[1;32m   4101\u001b[0m     \u001b[38;5;28;01mreturn\u001b[39;00m \u001b[38;5;28mself\u001b[39m\u001b[38;5;241m.\u001b[39m_getitem_multilevel(key)\n\u001b[0;32m-> 4102\u001b[0m indexer \u001b[38;5;241m=\u001b[39m \u001b[38;5;28;43mself\u001b[39;49m\u001b[38;5;241;43m.\u001b[39;49m\u001b[43mcolumns\u001b[49m\u001b[38;5;241;43m.\u001b[39;49m\u001b[43mget_loc\u001b[49m\u001b[43m(\u001b[49m\u001b[43mkey\u001b[49m\u001b[43m)\u001b[49m\n\u001b[1;32m   4103\u001b[0m \u001b[38;5;28;01mif\u001b[39;00m is_integer(indexer):\n\u001b[1;32m   4104\u001b[0m     indexer \u001b[38;5;241m=\u001b[39m [indexer]\n",
      "File \u001b[0;32m~/Documents/Tenx/kaim-week-2/venv/lib/python3.12/site-packages/pandas/core/indexes/base.py:3812\u001b[0m, in \u001b[0;36mIndex.get_loc\u001b[0;34m(self, key)\u001b[0m\n\u001b[1;32m   3807\u001b[0m     \u001b[38;5;28;01mif\u001b[39;00m \u001b[38;5;28misinstance\u001b[39m(casted_key, \u001b[38;5;28mslice\u001b[39m) \u001b[38;5;129;01mor\u001b[39;00m (\n\u001b[1;32m   3808\u001b[0m         \u001b[38;5;28misinstance\u001b[39m(casted_key, abc\u001b[38;5;241m.\u001b[39mIterable)\n\u001b[1;32m   3809\u001b[0m         \u001b[38;5;129;01mand\u001b[39;00m \u001b[38;5;28many\u001b[39m(\u001b[38;5;28misinstance\u001b[39m(x, \u001b[38;5;28mslice\u001b[39m) \u001b[38;5;28;01mfor\u001b[39;00m x \u001b[38;5;129;01min\u001b[39;00m casted_key)\n\u001b[1;32m   3810\u001b[0m     ):\n\u001b[1;32m   3811\u001b[0m         \u001b[38;5;28;01mraise\u001b[39;00m InvalidIndexError(key)\n\u001b[0;32m-> 3812\u001b[0m     \u001b[38;5;28;01mraise\u001b[39;00m \u001b[38;5;167;01mKeyError\u001b[39;00m(key) \u001b[38;5;28;01mfrom\u001b[39;00m \u001b[38;5;21;01merr\u001b[39;00m\n\u001b[1;32m   3813\u001b[0m \u001b[38;5;28;01mexcept\u001b[39;00m \u001b[38;5;167;01mTypeError\u001b[39;00m:\n\u001b[1;32m   3814\u001b[0m     \u001b[38;5;66;03m# If we have a listlike key, _check_indexing_error will raise\u001b[39;00m\n\u001b[1;32m   3815\u001b[0m     \u001b[38;5;66;03m#  InvalidIndexError. Otherwise we fall through and re-raise\u001b[39;00m\n\u001b[1;32m   3816\u001b[0m     \u001b[38;5;66;03m#  the TypeError.\u001b[39;00m\n\u001b[1;32m   3817\u001b[0m     \u001b[38;5;28mself\u001b[39m\u001b[38;5;241m.\u001b[39m_check_indexing_error(key)\n",
      "\u001b[0;31mKeyError\u001b[0m: 'tcp_retransmission'"
     ]
    }
   ],
   "source": [
    "# Analyze TCP retransmission values\n",
    "tcp_analysis = analyze_network_parameter(df, 'tcp_retransmission')\n",
    "print(\"TCP Retransmission Analysis:\")\n",
    "print(\"Top 10 values:\", tcp_analysis['top'])\n",
    "print(\"Bottom 10 values:\", tcp_analysis['bottom'])\n",
    "print(\"Most frequent 10 values:\", tcp_analysis['frequent'])\n",
    "\n",
    "# Analyze RTT values\n",
    "rtt_analysis = analyze_network_parameter(df, 'rtt')\n",
    "print(\"\\nRTT Analysis:\")\n",
    "print(\"Top 10 values:\", rtt_analysis['top'])\n",
    "print(\"Bottom 10 values:\", rtt_analysis['bottom'])\n",
    "print(\"Most frequent 10 values:\", rtt_analysis['frequent'])\n",
    "\n",
    "# Analyze Throughput values\n",
    "throughput_analysis = analyze_network_parameter(df, 'throughput')\n",
    "print(\"\\nThroughput Analysis:\")\n",
    "print(\"Top 10 values:\", throughput_analysis['top'])\n",
    "print(\"Bottom 10 values:\", throughput_analysis['bottom'])\n",
    "print(\"Most frequent 10 values:\", throughput_analysis['frequent'])"
   ]
  },
  {
   "cell_type": "markdown",
   "metadata": {},
   "source": [
    "## Task 3.3 - Handset Analysis"
   ]
  },
  {
   "cell_type": "code",
   "execution_count": 4,
   "metadata": {},
   "outputs": [
    {
     "ename": "KeyError",
     "evalue": "'Column not found: avg_throughput'",
     "output_type": "error",
     "traceback": [
      "\u001b[0;31m---------------------------------------------------------------------------\u001b[0m",
      "\u001b[0;31mKeyError\u001b[0m                                  Traceback (most recent call last)",
      "Cell \u001b[0;32mIn[4], line 2\u001b[0m\n\u001b[1;32m      1\u001b[0m \u001b[38;5;66;03m# Analyze throughput distribution per handset\u001b[39;00m\n\u001b[0;32m----> 2\u001b[0m throughput_dist \u001b[38;5;241m=\u001b[39m \u001b[43manalyze_throughput_by_handset\u001b[49m\u001b[43m(\u001b[49m\u001b[43mdf\u001b[49m\u001b[43m)\u001b[49m\n\u001b[1;32m      3\u001b[0m plot_throughput_distribution(throughput_dist)\n\u001b[1;32m      5\u001b[0m \u001b[38;5;28mprint\u001b[39m(\u001b[38;5;124m\"\u001b[39m\u001b[38;5;130;01m\\n\u001b[39;00m\u001b[38;5;124mThroughput Distribution by Handset Type:\u001b[39m\u001b[38;5;124m\"\u001b[39m)\n",
      "File \u001b[0;32m~/Documents/Tenx/kaim-week-2/notebooks/../scripts/experience_utils.py:56\u001b[0m, in \u001b[0;36manalyze_throughput_by_handset\u001b[0;34m(df)\u001b[0m\n\u001b[1;32m     52\u001b[0m \u001b[38;5;28;01mdef\u001b[39;00m \u001b[38;5;21manalyze_throughput_by_handset\u001b[39m(df):\n\u001b[1;32m     53\u001b[0m \u001b[38;5;250m    \u001b[39m\u001b[38;5;124;03m\"\"\"\u001b[39;00m\n\u001b[1;32m     54\u001b[0m \u001b[38;5;124;03m    Analyze throughput distribution per handset type\u001b[39;00m\n\u001b[1;32m     55\u001b[0m \u001b[38;5;124;03m    \"\"\"\u001b[39;00m\n\u001b[0;32m---> 56\u001b[0m     \u001b[38;5;28;01mreturn\u001b[39;00m \u001b[43mdf\u001b[49m\u001b[38;5;241;43m.\u001b[39;49m\u001b[43mgroupby\u001b[49m\u001b[43m(\u001b[49m\u001b[38;5;124;43m'\u001b[39;49m\u001b[38;5;124;43mhandset\u001b[39;49m\u001b[38;5;124;43m'\u001b[39;49m\u001b[43m)\u001b[49m\u001b[43m[\u001b[49m\u001b[38;5;124;43m'\u001b[39;49m\u001b[38;5;124;43mavg_throughput\u001b[39;49m\u001b[38;5;124;43m'\u001b[39;49m\u001b[43m]\u001b[49m\u001b[38;5;241m.\u001b[39mdescribe()\n",
      "File \u001b[0;32m~/Documents/Tenx/kaim-week-2/venv/lib/python3.12/site-packages/pandas/core/groupby/generic.py:1951\u001b[0m, in \u001b[0;36mDataFrameGroupBy.__getitem__\u001b[0;34m(self, key)\u001b[0m\n\u001b[1;32m   1944\u001b[0m \u001b[38;5;28;01mif\u001b[39;00m \u001b[38;5;28misinstance\u001b[39m(key, \u001b[38;5;28mtuple\u001b[39m) \u001b[38;5;129;01mand\u001b[39;00m \u001b[38;5;28mlen\u001b[39m(key) \u001b[38;5;241m>\u001b[39m \u001b[38;5;241m1\u001b[39m:\n\u001b[1;32m   1945\u001b[0m     \u001b[38;5;66;03m# if len == 1, then it becomes a SeriesGroupBy and this is actually\u001b[39;00m\n\u001b[1;32m   1946\u001b[0m     \u001b[38;5;66;03m# valid syntax, so don't raise\u001b[39;00m\n\u001b[1;32m   1947\u001b[0m     \u001b[38;5;28;01mraise\u001b[39;00m \u001b[38;5;167;01mValueError\u001b[39;00m(\n\u001b[1;32m   1948\u001b[0m         \u001b[38;5;124m\"\u001b[39m\u001b[38;5;124mCannot subset columns with a tuple with more than one element. \u001b[39m\u001b[38;5;124m\"\u001b[39m\n\u001b[1;32m   1949\u001b[0m         \u001b[38;5;124m\"\u001b[39m\u001b[38;5;124mUse a list instead.\u001b[39m\u001b[38;5;124m\"\u001b[39m\n\u001b[1;32m   1950\u001b[0m     )\n\u001b[0;32m-> 1951\u001b[0m \u001b[38;5;28;01mreturn\u001b[39;00m \u001b[38;5;28;43msuper\u001b[39;49m\u001b[43m(\u001b[49m\u001b[43m)\u001b[49m\u001b[38;5;241;43m.\u001b[39;49m\u001b[38;5;21;43m__getitem__\u001b[39;49m\u001b[43m(\u001b[49m\u001b[43mkey\u001b[49m\u001b[43m)\u001b[49m\n",
      "File \u001b[0;32m~/Documents/Tenx/kaim-week-2/venv/lib/python3.12/site-packages/pandas/core/base.py:244\u001b[0m, in \u001b[0;36mSelectionMixin.__getitem__\u001b[0;34m(self, key)\u001b[0m\n\u001b[1;32m    242\u001b[0m \u001b[38;5;28;01melse\u001b[39;00m:\n\u001b[1;32m    243\u001b[0m     \u001b[38;5;28;01mif\u001b[39;00m key \u001b[38;5;129;01mnot\u001b[39;00m \u001b[38;5;129;01min\u001b[39;00m \u001b[38;5;28mself\u001b[39m\u001b[38;5;241m.\u001b[39mobj:\n\u001b[0;32m--> 244\u001b[0m         \u001b[38;5;28;01mraise\u001b[39;00m \u001b[38;5;167;01mKeyError\u001b[39;00m(\u001b[38;5;124mf\u001b[39m\u001b[38;5;124m\"\u001b[39m\u001b[38;5;124mColumn not found: \u001b[39m\u001b[38;5;132;01m{\u001b[39;00mkey\u001b[38;5;132;01m}\u001b[39;00m\u001b[38;5;124m\"\u001b[39m)\n\u001b[1;32m    245\u001b[0m     ndim \u001b[38;5;241m=\u001b[39m \u001b[38;5;28mself\u001b[39m\u001b[38;5;241m.\u001b[39mobj[key]\u001b[38;5;241m.\u001b[39mndim\n\u001b[1;32m    246\u001b[0m     \u001b[38;5;28;01mreturn\u001b[39;00m \u001b[38;5;28mself\u001b[39m\u001b[38;5;241m.\u001b[39m_gotitem(key, ndim\u001b[38;5;241m=\u001b[39mndim)\n",
      "\u001b[0;31mKeyError\u001b[0m: 'Column not found: avg_throughput'"
     ]
    }
   ],
   "source": [
    "# Analyze throughput distribution per handset\n",
    "throughput_dist = analyze_throughput_by_handset(df)\n",
    "plot_throughput_distribution(throughput_dist)\n",
    "\n",
    "print(\"\\nThroughput Distribution by Handset Type:\")\n",
    "print(throughput_dist.describe())\n",
    "\n",
    "# Analyze TCP retransmission per handset\n",
    "tcp_by_handset = analyze_tcp_by_handset(df)\n",
    "plot_tcp_by_handset(tcp_by_handset)\n",
    "\n",
    "print(\"\\nTCP Retransmission by Handset Type:\")\n",
    "print(tcp_by_handset.describe())"
   ]
  },
  {
   "cell_type": "markdown",
   "metadata": {},
   "source": [
    "## Task 3.4 - Experience Clustering"
   ]
  },
  {
   "cell_type": "code",
   "execution_count": null,
   "metadata": {},
   "outputs": [],
   "source": [
    "# Perform experience clustering\n",
    "cluster_results = perform_experience_clustering(experience_metrics)\n",
    "\n",
    "# Display cluster characteristics\n",
    "print(\"Cluster Characteristics:\")\n",
    "print(cluster_results['stats'])\n",
    "\n",
    "# Plot cluster visualizations\n",
    "plot_experience_clusters(cluster_results['data'])\n",
    "\n",
    "# Cluster descriptions\n",
    "print(\"\\nCluster Descriptions:\")\n",
    "for cluster, description in cluster_results['descriptions'].items():\n",
    "    print(f\"\\nCluster {cluster}:\")\n",
    "    print(description)"
   ]
  }
 ],
 "metadata": {
  "kernelspec": {
   "display_name": "Python 3",
   "language": "python",
   "name": "python3"
  },
  "language_info": {
   "codemirror_mode": {
    "name": "ipython",
    "version": 3
   },
   "file_extension": ".py",
   "mimetype": "text/x-python",
   "name": "python",
   "nbconvert_exporter": "python",
   "pygments_lexer": "ipython3",
   "version": "3.12.3"
  }
 },
 "nbformat": 4,
 "nbformat_minor": 4
}
